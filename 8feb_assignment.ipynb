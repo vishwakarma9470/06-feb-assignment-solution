{
  "nbformat": 4,
  "nbformat_minor": 0,
  "metadata": {
    "colab": {
      "provenance": [],
      "authorship_tag": "ABX9TyOJBVSRcgLbE9YyvN8NOtzy",
      "include_colab_link": true
    },
    "kernelspec": {
      "name": "python3",
      "display_name": "Python 3"
    },
    "language_info": {
      "name": "python"
    }
  },
  "cells": [
    {
      "cell_type": "markdown",
      "metadata": {
        "id": "view-in-github",
        "colab_type": "text"
      },
      "source": [
        "<a href=\"https://colab.research.google.com/github/vishwakarma9470/06-feb-assignment-solution/blob/main/8feb_assignment.ipynb\" target=\"_parent\"><img src=\"https://colab.research.google.com/assets/colab-badge.svg\" alt=\"Open In Colab\"/></a>"
      ]
    },
    {
      "cell_type": "markdown",
      "source": [
        "Q1. What is Abstraction in OOps? Explain with an example.\n",
        "\n",
        "\n",
        "Ans - Abstraction in object-oriented programming (OOP) is a fundamental concept that involves simplifying complex reality by modeling classes based on the essential properties and behaviors an object should have, while hiding the unnecessary details. It is one of the four key principles of OOP, along with encapsulation, inheritance, and polymorphism.\n",
        "\n",
        "Abstraction allows you to focus on what an object does rather than how it does it. In other words, it provides a high-level view of an object or class, emphasizing the essential characteristics while suppressing the non-essential details."
      ],
      "metadata": {
        "id": "t1s6XJkdjgja"
      }
    },
    {
      "cell_type": "code",
      "source": [
        "from abc import ABC, abstractmethod\n",
        "\n",
        "class Vehicle(ABC):\n",
        "    def __init__(self, make, model):\n",
        "        self.make = make\n",
        "        self.model = model\n",
        "\n",
        "    @abstractmethod\n",
        "    def start(self):\n",
        "        pass\n",
        "\n",
        "    @abstractmethod\n",
        "    def stop(self):\n",
        "        pass\n",
        "\n",
        "    @abstractmethod\n",
        "    def accelerate(self):\n",
        "        pass\n",
        "\n",
        "    @abstractmethod\n",
        "    def brake(self):\n",
        "        pass\n"
      ],
      "metadata": {
        "id": "e2WtdqUskFxg"
      },
      "execution_count": 8,
      "outputs": []
    },
    {
      "cell_type": "markdown",
      "source": [
        "Q2. Differentiate between Abstraction and Encapsulation. Explain with an example.\n",
        "\n",
        " Ans - Abstraction and encapsulation are two fundamental concepts in object-oriented programming (OOP), but they serve different purposes and address different aspects of designing and implementing classes and objects. Here's a differentiation between abstraction and encapsulation, along with examples for each:\n",
        "\n",
        "Abstraction:\n",
        "\n",
        "Purpose:\n",
        "\n",
        "Abstraction is primarily about simplifying complex systems by modeling classes based on essential properties and behaviors while hiding the non-essential details.\n",
        "It focuses on what an object does, providing a high-level view of the object's characteristics and actions.\n",
        "\n",
        "Implementation:\n",
        "\n",
        "Abstraction is typically implemented using abstract classes or interfaces (in languages like Python or Java) that define a contract for derived classes. These abstract classes contain one or more abstract methods, which must be implemented by concrete (non-abstract) subclasses."
      ],
      "metadata": {
        "id": "kpNW3JY9mAtH"
      }
    },
    {
      "cell_type": "code",
      "source": [
        "from abc import ABC, abstractmethod\n",
        "\n",
        "class Shape(ABC):\n",
        "    @abstractmethod\n",
        "    def area(self):\n",
        "        pass\n",
        "\n",
        "    @abstractmethod\n",
        "    def perimeter(self):\n",
        "        pass\n",
        "\n",
        "class Circle(Shape):\n",
        "    def __init__(self, radius):\n",
        "        self.radius = radius\n",
        "\n",
        "    def area(self):\n",
        "        return 3.14 * self.radius**2\n",
        "\n",
        "    def perimeter(self):\n",
        "        return 2 * 3.14 * self.radius\n",
        "\n",
        "class Rectangle(Shape):\n",
        "    def __init__(self, length, width):\n",
        "        self.length = length\n",
        "        self.width = width\n",
        "\n",
        "    def area(self):\n",
        "        return self.length * self.width\n",
        "\n",
        "    def perimeter(self):\n",
        "        return 2 * (self.length + self.width)\n"
      ],
      "metadata": {
        "id": "PqJJTuv7k7g2"
      },
      "execution_count": 10,
      "outputs": []
    },
    {
      "cell_type": "markdown",
      "source": [
        "Encapsulation:\n",
        "\n",
        "Purpose:\n",
        "\n",
        "Encapsulation is about bundling data (attributes) and methods (functions) that operate on that data into a single unit known as a class.\n",
        "It restricts direct access to some of an object's components and prevents the accidental modification of data, ensuring data integrity and maintaining a clear interface for interacting with the object.\n",
        "\n",
        "Implementation:\n",
        "\n",
        "Encapsulation is achieved by defining class attributes as private or protected (e.g., by prefixing them with underscores) and providing public methods (getters and setters) to access and modify these attributes."
      ],
      "metadata": {
        "id": "op_rt8lgmVVS"
      }
    },
    {
      "cell_type": "code",
      "source": [
        "class Person:\n",
        "    def __init__(self, name, age):\n",
        "        self._name = name  # Private attribute (by convention)\n",
        "        self._age = age    # Private attribute (by convention)\n",
        "\n",
        "    def get_name(self):\n",
        "        return self._name\n",
        "\n",
        "    def set_name(self, name):\n",
        "        self._name = name\n",
        "\n",
        "    def get_age(self):\n",
        "        return self._age\n",
        "\n",
        "    def set_age(self, age):\n",
        "        if age >= 0:\n",
        "            self._age = age\n",
        "\n",
        "# Usage\n",
        "person = Person(\"Alice\", 30)\n",
        "print(person.get_name())  # Access through getter\n",
        "person.set_age(32)        # Access through setter\n"
      ],
      "metadata": {
        "colab": {
          "base_uri": "https://localhost:8080/"
        },
        "id": "IQ_g5p6gmUM1",
        "outputId": "8b353cef-a637-4fa1-f573-6723fe293cde"
      },
      "execution_count": 11,
      "outputs": [
        {
          "output_type": "stream",
          "name": "stdout",
          "text": [
            "Alice\n"
          ]
        }
      ]
    },
    {
      "cell_type": "markdown",
      "source": [
        "Q3. What is abc module in python? Why is it used?\n",
        "\n",
        "Ans - The abc module in Python stands for \"Abstract Base Classes.\" It is part of the Python Standard Library and provides a framework for creating and working with abstract base classes and abstract methods. Abstract base classes (ABCs) are a way of enforcing that a subclass must implement certain methods, ensuring a common interface for a group of related classes.\n",
        "\n",
        "Here's why the abc module is used and its main features:\n",
        "\n",
        "Creating Abstract Base Classes:\n",
        "\n",
        "The abc module allows you to define abstract base classes using the ABC metaclass. An abstract base class is a class that cannot be instantiated and is meant to serve as a blueprint for other classes.\n",
        "\n",
        "Defining Abstract Methods:\n",
        "\n",
        "Within an abstract base class, you can define abstract methods using the @abstractmethod decorator. These methods are declared but have no implementation in the abstract base class itself.\n",
        "\n",
        "Enforcing Method Implementation:\n",
        "\n",
        "Subclasses that inherit from an abstract base class must implement all its abstract methods. If a subclass fails to do so, it will raise a TypeError at runtime.\n",
        "\n",
        "Establishing a Common Interface:\n",
        "\n",
        "ABCs help in establishing a common interface for a group of related classes. This is particularly useful when you want to ensure that different classes adhere to a specific set of methods and behaviors"
      ],
      "metadata": {
        "id": "PIdk2lhfmosZ"
      }
    },
    {
      "cell_type": "code",
      "source": [
        "from abc import ABC, abstractmethod\n",
        "\n",
        "class Shape(ABC):\n",
        "    @abstractmethod\n",
        "    def area(self):\n",
        "        pass\n",
        "\n",
        "class Circle(Shape):\n",
        "    def __init__(self, radius):\n",
        "        self.radius = radius\n",
        "\n",
        "    def area(self):\n",
        "        return 3.14 * self.radius**2\n",
        "\n",
        "class Rectangle(Shape):\n",
        "    def __init__(self, length, width):\n",
        "        self.length = length\n",
        "        self.width = width\n",
        "\n",
        "    def area(self):\n",
        "        return self.length * self.width\n",
        "\n"
      ],
      "metadata": {
        "id": "uXtl8GGrmhan"
      },
      "execution_count": 12,
      "outputs": []
    },
    {
      "cell_type": "code",
      "source": [
        "\n",
        "circle = Circle(5)\n",
        "rectangle = Rectangle(4, 6)\n",
        "\n",
        "print(circle.area())     # Calls the concrete implementation in Circle\n",
        "print(rectangle.area())  # Calls the concrete implementation in Rectangle\n"
      ],
      "metadata": {
        "colab": {
          "base_uri": "https://localhost:8080/"
        },
        "id": "ItJRnbLInTOc",
        "outputId": "b3b0af54-7561-41b0-b27a-acb437333e54"
      },
      "execution_count": 14,
      "outputs": [
        {
          "output_type": "stream",
          "name": "stdout",
          "text": [
            "78.5\n",
            "24\n"
          ]
        }
      ]
    },
    {
      "cell_type": "markdown",
      "source": [
        "Q4. How can we achieve data abstraction?\n",
        "\n",
        "Ans - Data abstraction is one of the fundamental principles of object-oriented programming (OOP), and it allows you to hide the complex implementation details of data while exposing only the necessary information and functionality to the outside world. Here's how you can achieve data abstraction in Python:\n",
        "\n",
        "Use Classes and Objects: In Python, you can use classes and objects to encapsulate data and behavior into a single unit. A class defines the structure and behavior of objects, while an object is an instance of a class.\n",
        "\n",
        "Access Control: Control access to the internal data of a class by defining data members (attributes) as private or protected. In Python, this is done using naming conventions:\n",
        "\n",
        "Private attributes are prefixed with a single underscore (e.g., _data).\n",
        "Protected attributes are prefixed with a double underscore (e.g., __data).\n",
        "Provide Public Methods: Define public methods (also known as member functions) to access and manipulate the data within the class. Public methods are the interface through which external code interacts with the class.\n",
        "\n",
        "Encapsulation: Use encapsulation to bundle the data (attributes) and the methods that operate on that data into a single unit (the class). This prevents direct access to the internal data and enforces access through methods"
      ],
      "metadata": {
        "id": "-xNFdABonYoe"
      }
    },
    {
      "cell_type": "markdown",
      "source": [
        "Q5. Can we create an instance of an abstract class? Explain your answer.\n",
        "\n",
        "Ans - No, you cannot create an instance of an abstract class in Python. Abstract classes are meant to serve as blueprints or templates for other classes and are not meant to be instantiated directly. The primary purpose of an abstract class is to define a common interface and some default behavior that should be shared by its subclasses"
      ],
      "metadata": {
        "id": "h-3ROD22npnf"
      }
    },
    {
      "cell_type": "code",
      "source": [],
      "metadata": {
        "id": "0ovEwv4UnUIe"
      },
      "execution_count": null,
      "outputs": []
    }
  ]
}