{
  "nbformat": 4,
  "nbformat_minor": 0,
  "metadata": {
    "colab": {
      "provenance": [],
      "authorship_tag": "ABX9TyMM4IoXHkaJtq/22C58oJqX",
      "include_colab_link": true
    },
    "kernelspec": {
      "name": "python3",
      "display_name": "Python 3"
    },
    "language_info": {
      "name": "python"
    }
  },
  "cells": [
    {
      "cell_type": "markdown",
      "metadata": {
        "id": "view-in-github",
        "colab_type": "text"
      },
      "source": [
        "<a href=\"https://colab.research.google.com/github/vishwakarma9470/06-feb-assignment-solution/blob/main/7feb_assignment.ipynb\" target=\"_parent\"><img src=\"https://colab.research.google.com/assets/colab-badge.svg\" alt=\"Open In Colab\"/></a>"
      ]
    },
    {
      "cell_type": "markdown",
      "source": [
        "Q1. You are writing code for a company. The requirement of the company is that you create a python\n",
        "function that will check whether the password entered by the user is correct or not. The function should\n",
        "take the password as input and return the string “Valid Password” if the entered password follows the\n",
        "below-given password guidelines else it should return “Invalid Password”.\n",
        "Note: 1. The Password should contain at least two uppercase letters and at least two lowercase letters.\n",
        "2. The Password should contain at least a number and three special characters.\n",
        "3. The length of the password should be 10 characters long."
      ],
      "metadata": {
        "id": "0xPoPDKZgJjA"
      }
    },
    {
      "cell_type": "code",
      "execution_count": 2,
      "metadata": {
        "colab": {
          "base_uri": "https://localhost:8080/"
        },
        "id": "h549kIwAgEcx",
        "outputId": "3ea1edcb-eb14-4946-d013-bd3630f59f4a"
      },
      "outputs": [
        {
          "output_type": "stream",
          "name": "stdout",
          "text": [
            "Enter a password: @$#^$@^%#$\n",
            "Invalid Password\n"
          ]
        }
      ],
      "source": [
        "import re\n",
        "\n",
        "def is_valid_password(password):\n",
        "    # Check if the length of the password is 10 characters long\n",
        "    if len(password) != 10:\n",
        "        return \"Invalid Password\"\n",
        "\n",
        "    # Count the number of uppercase and lowercase letters\n",
        "    upper_count = sum(1 for char in password if char.isupper())\n",
        "    lower_count = sum(1 for char in password if char.islower())\n",
        "\n",
        "    # Check if there are at least two uppercase and two lowercase letters\n",
        "    if upper_count < 2 or lower_count < 2:\n",
        "        return \"Invalid Password\"\n",
        "\n",
        "    # Check if there is at least one digit and at least three special characters\n",
        "    if not any(char.isdigit() for char in password) or len(re.findall(r'[!@#$%^&*()]', password)) < 3:\n",
        "        return \"Invalid Password\"\n",
        "\n",
        "    return \"Valid Password\"\n",
        "\n",
        "# Example usage:\n",
        "password = input(\"Enter a password: \")\n",
        "result = is_valid_password(password)\n",
        "print(result)\n"
      ]
    },
    {
      "cell_type": "markdown",
      "source": [
        "Q2. Solve the below-given questions using at least one of the following:\n",
        "1. Lambda functioJ\n",
        "2. Filter functioJ\n",
        "3. Zap functioJ\n",
        "4. List ComprehensioI\n",
        "\n",
        "a. Check if the string starts with a particular letterY\n",
        "\n",
        "b. Check if the string is numericY\n",
        "\n",
        "c. Sort a list of tuples having fruit names and their quantity. [(\"mango\",99),\n",
        "(\"orange\",80), (\"grapes\", 1000)]\n",
        "\n",
        "d. Find the squares of numbers from 1 to 10Y\n",
        "\n",
        "e. Find the cube root of numbers from 1 to 10Y\n",
        "\n",
        "f. Check if a given number is evenY\n",
        "\n",
        "g. Filter odd numbers from the given list.\n",
        "[1,2,3,4,5,6,7,8,9,10]\n",
        "\n",
        "h. Sort a list of integers into positive and negative integers lists.\n",
        "[1,2,3,4,5,6,-1,-2,-3,-4,-5,0]"
      ],
      "metadata": {
        "id": "7suLcqargv8f"
      }
    },
    {
      "cell_type": "code",
      "source": [
        "#Check if the string starts with a particular letterY\n",
        "strings = [\"apple\", \"banana\", \"cherry\", \"date\"]\n",
        "letter = \"b\"\n",
        "result = list(filter(lambda s: s.startswith(letter), strings))\n",
        "print(result)\n"
      ],
      "metadata": {
        "colab": {
          "base_uri": "https://localhost:8080/"
        },
        "id": "yK2GMLiPgPQE",
        "outputId": "86e38c59-2306-4845-caa8-eb624967ed10"
      },
      "execution_count": 3,
      "outputs": [
        {
          "output_type": "stream",
          "name": "stdout",
          "text": [
            "['banana']\n"
          ]
        }
      ]
    },
    {
      "cell_type": "code",
      "source": [
        "#Check if the string is numericY\n",
        "strings = [\"123\", \"abc\", \"45.67\", \"6789\"]\n",
        "result = list(filter(lambda s: s.isnumeric(), strings))\n",
        "print(result)\n"
      ],
      "metadata": {
        "colab": {
          "base_uri": "https://localhost:8080/"
        },
        "id": "R1UaRJ2jhaH5",
        "outputId": "aa9788df-4f78-4040-96b0-e8e382189254"
      },
      "execution_count": 4,
      "outputs": [
        {
          "output_type": "stream",
          "name": "stdout",
          "text": [
            "['123', '6789']\n"
          ]
        }
      ]
    },
    {
      "cell_type": "code",
      "source": [
        "#Sort a list of tuples having fruit names and their quantity. [(\"mango\",99), (\"orange\",80), (\"grapes\", 1000)]\n",
        "fruits = [(\"mango\", 99), (\"orange\", 80), (\"grapes\", 1000)]\n",
        "sorted_fruits = sorted(fruits, key=lambda x: x[1])\n",
        "print(sorted_fruits)\n"
      ],
      "metadata": {
        "colab": {
          "base_uri": "https://localhost:8080/"
        },
        "id": "aWN3BaKGhlAn",
        "outputId": "a229c5e6-3a59-4dbd-8eb0-2d27a6883149"
      },
      "execution_count": 5,
      "outputs": [
        {
          "output_type": "stream",
          "name": "stdout",
          "text": [
            "[('orange', 80), ('mango', 99), ('grapes', 1000)]\n"
          ]
        }
      ]
    },
    {
      "cell_type": "code",
      "source": [
        "#Find the squares of numbers from 1 to 10Y\n",
        "numbers = list(range(1, 11))\n",
        "squares = list(map(lambda x: x**2, numbers))\n",
        "print(squares)\n"
      ],
      "metadata": {
        "colab": {
          "base_uri": "https://localhost:8080/"
        },
        "id": "wVlVEpZ9hu5r",
        "outputId": "42757b55-9574-41a8-c7cb-f2fd0f51f1e5"
      },
      "execution_count": 6,
      "outputs": [
        {
          "output_type": "stream",
          "name": "stdout",
          "text": [
            "[1, 4, 9, 16, 25, 36, 49, 64, 81, 100]\n"
          ]
        }
      ]
    },
    {
      "cell_type": "code",
      "source": [
        "#Find the cube root of numbers from 1 to 10:\n",
        "import math\n",
        "numbers = list(range(1, 11))\n",
        "cube_roots = list(map(lambda x: math.pow(x, 1/3), numbers))\n",
        "print(cube_roots)"
      ],
      "metadata": {
        "colab": {
          "base_uri": "https://localhost:8080/"
        },
        "id": "2kS3xyeBh2JI",
        "outputId": "dde34b41-7877-47ea-db8c-acb57399376f"
      },
      "execution_count": 7,
      "outputs": [
        {
          "output_type": "stream",
          "name": "stdout",
          "text": [
            "[1.0, 1.2599210498948732, 1.4422495703074083, 1.5874010519681994, 1.7099759466766968, 1.8171205928321397, 1.912931182772389, 2.0, 2.080083823051904, 2.154434690031884]\n"
          ]
        }
      ]
    },
    {
      "cell_type": "code",
      "source": [
        "#Check if a given number is even:\n",
        "numbers = [1, 2, 3, 4, 5, 6, 7, 8, 9, 10]\n",
        "is_even = list(map(lambda x: x % 2 == 0, numbers))\n",
        "print(is_even)"
      ],
      "metadata": {
        "colab": {
          "base_uri": "https://localhost:8080/"
        },
        "id": "gE1A7cz-h-PM",
        "outputId": "61780010-2788-4bec-d696-62039e44a786"
      },
      "execution_count": 8,
      "outputs": [
        {
          "output_type": "stream",
          "name": "stdout",
          "text": [
            "[False, True, False, True, False, True, False, True, False, True]\n"
          ]
        }
      ]
    },
    {
      "cell_type": "code",
      "source": [
        "#Filter odd numbers from the given list:\n",
        "numbers = [1, 2, 3, 4, 5, 6, 7, 8, 9, 10]\n",
        "odd_numbers = list(filter(lambda x: x % 2 != 0, numbers))\n",
        "print(odd_numbers)"
      ],
      "metadata": {
        "colab": {
          "base_uri": "https://localhost:8080/"
        },
        "id": "Tvzu_oh7iFM3",
        "outputId": "b85f7f10-5e5a-43d0-aa20-11e787b3db28"
      },
      "execution_count": 9,
      "outputs": [
        {
          "output_type": "stream",
          "name": "stdout",
          "text": [
            "[1, 3, 5, 7, 9]\n"
          ]
        }
      ]
    },
    {
      "cell_type": "code",
      "source": [
        "#Sort a list of integers into positive and negative integers lists:\n",
        "numbers = [1, 2, 3, 4, 5, 6, -1, -2, -3, -4, -5, 0]\n",
        "positive_numbers = [x for x in numbers if x > 0]\n",
        "negative_numbers = [x for x in numbers if x < 0]\n",
        "print(\"Positive Numbers:\", positive_numbers)\n",
        "print(\"Negative Numbers:\", negative_numbers)"
      ],
      "metadata": {
        "colab": {
          "base_uri": "https://localhost:8080/"
        },
        "id": "pxnbJNcsiMVZ",
        "outputId": "a61166d6-042b-4e69-dd87-a8556beef0c7"
      },
      "execution_count": 10,
      "outputs": [
        {
          "output_type": "stream",
          "name": "stdout",
          "text": [
            "Positive Numbers: [1, 2, 3, 4, 5, 6]\n",
            "Negative Numbers: [-1, -2, -3, -4, -5]\n"
          ]
        }
      ]
    },
    {
      "cell_type": "code",
      "source": [],
      "metadata": {
        "id": "d7rjcD01iT_f"
      },
      "execution_count": null,
      "outputs": []
    }
  ]
}